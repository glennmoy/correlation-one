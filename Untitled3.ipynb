{
 "cells": [
  {
   "cell_type": "code",
   "execution_count": 4,
   "metadata": {
    "collapsed": false
   },
   "outputs": [],
   "source": [
    "from math import *\n",
    "import pandas as pd\n",
    "import numpy as np\n",
    "import matplotlib.pyplot as plt\n",
    "import csv\n",
    "import networkx as nx"
   ]
  },
  {
   "cell_type": "code",
   "execution_count": 69,
   "metadata": {
    "collapsed": false
   },
   "outputs": [
    {
     "name": "stdout",
     "output_type": "stream",
     "text": [
      "Index(['BK88', 'QN52', 'QN48', 'QN51', 'QN27', 'BX35', 'BX98', 'QN07', 'MN06',\n",
      "       'QN02',\n",
      "       ...\n",
      "       'MN25', 'MN24', 'MN23', 'MN13', 'MN15', 'MN32', 'MN33', 'MN99', 'QN18',\n",
      "       'QN29'],\n",
      "      dtype='object', length=195)\n"
     ]
    }
   ],
   "source": [
    "df=pd.read_csv('geographic.csv')\n",
    "\n",
    "neighbourhoods=df.columns\n",
    "\n",
    "df_trips=pd.read_csv(\"taxi_trips_list.csv\")\n",
    "\n",
    "\n",
    "\n",
    "print(neighbourhoods)"
   ]
  },
  {
   "cell_type": "code",
   "execution_count": 74,
   "metadata": {
    "collapsed": false
   },
   "outputs": [
    {
     "name": "stdout",
     "output_type": "stream",
     "text": [
      "{'QN48': array([], dtype=object), 'BK88': array(['MN22', 'MN17'], dtype=object), 'QN51': array([], dtype=object), 'QN52': array(['QN38'], dtype=object), 'QN02': array(['QN44', 'MN19', 'QN02', 'QN76'], dtype=object), 'MN06': array(['MN33', 'MN09', 'MN13', ..., 'MN09', 'MN09', 'MN13'], dtype=object), 'QN07': array([], dtype=object), 'QN27': array(['MN17', 'QN37', 'QN50', ..., 'MN13', 'BK38', 'QN68'], dtype=object), 'BX98': array(['MN17', 'BX98', 'BX98'], dtype=object), 'BX35': array(['MN23', 'QN27', 'BX34'], dtype=object)}\n"
     ]
    }
   ],
   "source": [
    "trip_graph={}\n",
    "\n",
    "for n1 in range(0,10): \n",
    "    N1=neighbourhoods[n1]\n",
    "    for n2 in range(0,10):\n",
    "        N2=neighbourhoods[n2]\n",
    "        trip_graph[N1]=df_trips[(df_trips.pickup==N1)].dropoff.values\n",
    "\n"
   ]
  },
  {
   "cell_type": "code",
   "execution_count": 76,
   "metadata": {
    "collapsed": false
   },
   "outputs": [
    {
     "ename": "TypeError",
     "evalue": "add_edge() missing 1 required positional argument: 'v'",
     "output_type": "error",
     "traceback": [
      "\u001b[0;31m---------------------------------------------------------------------------\u001b[0m",
      "\u001b[0;31mTypeError\u001b[0m                                 Traceback (most recent call last)",
      "\u001b[0;32m<ipython-input-76-eb8f1504ce7b>\u001b[0m in \u001b[0;36m<module>\u001b[0;34m()\u001b[0m\n\u001b[1;32m      1\u001b[0m \u001b[0mG\u001b[0m\u001b[0;34m=\u001b[0m\u001b[0mnx\u001b[0m\u001b[0;34m.\u001b[0m\u001b[0mDiGraph\u001b[0m\u001b[0;34m(\u001b[0m\u001b[0;34m)\u001b[0m\u001b[0;34m\u001b[0m\u001b[0m\n\u001b[1;32m      2\u001b[0m \u001b[0;32mfor\u001b[0m \u001b[0mk\u001b[0m\u001b[0;34m,\u001b[0m\u001b[0mv\u001b[0m \u001b[0;32min\u001b[0m \u001b[0mtrip_graph\u001b[0m\u001b[0;34m.\u001b[0m\u001b[0mitems\u001b[0m\u001b[0;34m(\u001b[0m\u001b[0;34m)\u001b[0m\u001b[0;34m:\u001b[0m\u001b[0;34m\u001b[0m\u001b[0m\n\u001b[0;32m----> 3\u001b[0;31m     \u001b[0mG\u001b[0m\u001b[0;34m.\u001b[0m\u001b[0madd_edge\u001b[0m\u001b[0;34m(\u001b[0m\u001b[0mtrip_graph\u001b[0m\u001b[0;34m[\u001b[0m\u001b[0mk\u001b[0m\u001b[0;34m]\u001b[0m\u001b[0;34m)\u001b[0m\u001b[0;34m\u001b[0m\u001b[0m\n\u001b[0m\u001b[1;32m      4\u001b[0m \u001b[0;34m\u001b[0m\u001b[0m\n\u001b[1;32m      5\u001b[0m     \u001b[0mpos\u001b[0m \u001b[0;34m=\u001b[0m \u001b[0mnx\u001b[0m\u001b[0;34m.\u001b[0m\u001b[0mspring_layout\u001b[0m\u001b[0;34m(\u001b[0m\u001b[0mG\u001b[0m\u001b[0;34m)\u001b[0m\u001b[0;34m\u001b[0m\u001b[0m\n",
      "\u001b[0;31mTypeError\u001b[0m: add_edge() missing 1 required positional argument: 'v'"
     ]
    }
   ],
   "source": [
    "G=nx.DiGraph()\n",
    "for k,v in trip_graph.items():\n",
    "    G.add_edge(trip_graph[k])\n",
    "\n",
    "    pos = nx.spring_layout(G)\n",
    "nx.draw_networkx_nodes(G, pos)\n",
    "nx.draw_networkx_edges(G, pos)\n",
    "nx.draw_networkx_labels(G, pos)\n",
    "labels = nx.get_edge_attributes(G, 'weight')\n",
    "\n",
    "nx.draw_networkx_edge_labels(G, pos, edge_labels=labels,width=16)\n",
    "plt.show()"
   ]
  },
  {
   "cell_type": "code",
   "execution_count": null,
   "metadata": {
    "collapsed": true
   },
   "outputs": [],
   "source": []
  }
 ],
 "metadata": {
  "kernelspec": {
   "display_name": "Python 3",
   "language": "python",
   "name": "python3"
  },
  "language_info": {
   "codemirror_mode": {
    "name": "ipython",
    "version": 3
   },
   "file_extension": ".py",
   "mimetype": "text/x-python",
   "name": "python",
   "nbconvert_exporter": "python",
   "pygments_lexer": "ipython3",
   "version": "3.5.2"
  }
 },
 "nbformat": 4,
 "nbformat_minor": 0
}
